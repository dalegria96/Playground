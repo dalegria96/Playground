{
  "nbformat": 4,
  "nbformat_minor": 0,
  "metadata": {
    "colab": {
      "provenance": [],
      "authorship_tag": "ABX9TyN75ULP+5uUk/2Ri1S+Jxlg",
      "include_colab_link": true
    },
    "kernelspec": {
      "name": "python3",
      "display_name": "Python 3"
    },
    "language_info": {
      "name": "python"
    }
  },
  "cells": [
    {
      "cell_type": "markdown",
      "metadata": {
        "id": "view-in-github",
        "colab_type": "text"
      },
      "source": [
        "<a href=\"https://colab.research.google.com/github/dalegria96/Playground/blob/main/Documentation_Project.ipynb\" target=\"_parent\"><img src=\"https://colab.research.google.com/assets/colab-badge.svg\" alt=\"Open In Colab\"/></a>"
      ]
    },
    {
      "cell_type": "markdown",
      "source": [
        "# Documentation project for Cloud Specialization\n",
        "\n",
        "This notebook can contains lists as\n",
        "* a\n",
        "* b\n",
        "* c"
      ],
      "metadata": {
        "id": "S-vB_wa6ELR_"
      }
    },
    {
      "cell_type": "code",
      "source": [
        "print(\"Hello world\")"
      ],
      "metadata": {
        "id": "rCE4bp4hEAPa"
      },
      "execution_count": null,
      "outputs": []
    }
  ]
}