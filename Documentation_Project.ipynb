{
  "nbformat": 4,
  "nbformat_minor": 0,
  "metadata": {
    "colab": {
      "provenance": []
    },
    "kernelspec": {
      "name": "python3",
      "display_name": "Python 3"
    },
    "language_info": {
      "name": "python"
    }
  },
  "cells": [
    {
      "cell_type": "markdown",
      "source": [
        "# Documentation project for Cloud Specialization\n",
        "\n",
        "This notebook can contains lists as\n",
        "* a\n",
        "* b\n",
        "* c"
      ],
      "metadata": {
        "id": "S-vB_wa6ELR_"
      }
    },
    {
      "cell_type": "code",
      "source": [
        "print(\"Hello world\")"
      ],
      "metadata": {
        "id": "rCE4bp4hEAPa"
      },
      "execution_count": null,
      "outputs": []
    }
  ]
}